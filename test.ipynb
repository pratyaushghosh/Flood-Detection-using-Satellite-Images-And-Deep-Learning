{
 "cells": [
  {
   "cell_type": "code",
   "execution_count": 1,
   "metadata": {},
   "outputs": [],
   "source": [
    "import subprocess \n",
    "from subprocess import PIPE\n",
    "import rasterio\n",
    "import json\n",
    "import glob \n",
    "import pandas as pd\n",
    "import os\n",
    "import numpy as np\n",
    "import cv2"
   ]
  },
  {
   "cell_type": "code",
   "execution_count": 13,
   "metadata": {},
   "outputs": [
    {
     "name": "stdout",
     "output_type": "stream",
     "text": [
      "The number of testing samples is = {len(imagelist)}\n"
     ]
    }
   ],
   "source": [
    "imagelist = []\n",
    "rootdir = \"C:/Users/User/Desktop/project/Flood Detection using Satelite Images & Deep Machine Learning Project/testing/image\" # define the path for the folder\n",
    "for file in os.listdir(rootdir):\n",
    "    d = os.path.join(rootdir, file)\n",
    "    if os.path.isdir(d):\n",
    "        imagelist.append(d)\n",
    "        \n",
    "        \n",
    "print(\"The number of testing samples is = {len(imagelist)}\")"
   ]
  },
  {
   "cell_type": "code",
   "execution_count": 14,
   "metadata": {},
   "outputs": [],
   "source": [
    "def image_label(product_id):\n",
    "    \n",
    "    rootdir = \"sen12floods_s2_labels\"\n",
    "    pd = product_id.split(\"_\")\n",
    "    pd = \"_\" + pd[3] + \"_\" + pd[4] + \"_\" + pd[5] + \"_\" + pd[6]\n",
    "    \n",
    "    json_data=open(\"sen12floods_s2_labels/\" + rootdir + pd +\"/stac.json\", \"rb\")\n",
    "    jdata = json.load(json_data)\n",
    "    flood = jdata[\"properties\"][\"FLOODING\"]\n",
    "    \n",
    "\n",
    "    if (flood == \"False\"):\n",
    "        image_label = 0\n",
    "    else:\n",
    "        image_label = 1\n",
    "    #print(image_label)\n",
    "    return image_label"
   ]
  },
  {
   "cell_type": "code",
   "execution_count": 15,
   "metadata": {},
   "outputs": [],
   "source": [
    "def product_name(path):\n",
    "    \n",
    "    json_data=open(path+\"/stac.json\", \"rb\")\n",
    "    jdata = json.load(json_data)\n",
    "    \n",
    "    return  jdata['id']"
   ]
  },
  {
   "cell_type": "code",
   "execution_count": 17,
   "metadata": {},
   "outputs": [],
   "source": [
    "def load_data():\n",
    "    \n",
    "    data = [] \n",
    "    images = []\n",
    "    labels = []\n",
    "    \n",
    "    for folder in imagelist:\n",
    "        product_id = product_name(folder)\n",
    "        label = image_label(product_id)\n",
    "    \n",
    "        # Open the img\n",
    "        image = cv2.imread(folder + \"/stack.tif\")\n",
    "        # Append the image and its corresponding label to the output\n",
    "        images.append(image)\n",
    "        labels.append(label)\n",
    "\n",
    "        \n",
    "        \n",
    "    images = np.array(images, dtype = 'float32')\n",
    "    labels = np.array(labels, dtype = 'int32')\n",
    "        \n",
    "    #print(images, labels)    \n",
    "    data.append([images, labels])     \n",
    "\n",
    "    return images, labels"
   ]
  },
  {
   "cell_type": "code",
   "execution_count": 20,
   "metadata": {},
   "outputs": [],
   "source": [
    "import keras\n",
    "model = keras.models.load_model(\"C:/Users/User/Desktop/project/Flood Detection using Satelite Images & Deep Machine Learning Project/my_model_raw\")"
   ]
  },
  {
   "cell_type": "code",
   "execution_count": 21,
   "metadata": {},
   "outputs": [],
   "source": [
    "test_images, test_labels = load_data()"
   ]
  },
  {
   "cell_type": "code",
   "execution_count": 22,
   "metadata": {},
   "outputs": [
    {
     "name": "stdout",
     "output_type": "stream",
     "text": [
      "1/1 [==============================] - 1s 505ms/step - loss: 0.6508 - accuracy: 0.5000\n"
     ]
    }
   ],
   "source": [
    "test_loss = model.evaluate(test_images, test_labels)"
   ]
  }
 ],
 "metadata": {
  "kernelspec": {
   "display_name": "Python 3",
   "language": "python",
   "name": "python3"
  },
  "language_info": {
   "codemirror_mode": {
    "name": "ipython",
    "version": 3
   },
   "file_extension": ".py",
   "mimetype": "text/x-python",
   "name": "python",
   "nbconvert_exporter": "python",
   "pygments_lexer": "ipython3",
   "version": "3.11.3"
  },
  "orig_nbformat": 4
 },
 "nbformat": 4,
 "nbformat_minor": 2
}
