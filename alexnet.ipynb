{
 "cells": [
  {
   "cell_type": "code",
   "execution_count": null,
   "id": "b4ec7e19",
   "metadata": {},
   "outputs": [],
   "source": [
    "import tensorflow as tf\n",
    "from tensorflow import keras\n",
    "from tensorflow.keras import layers"
   ]
  },
  {
   "cell_type": "code",
   "execution_count": null,
   "id": "c115f664",
   "metadata": {},
   "outputs": [],
   "source": [
    "# Create AlexNet model\n",
    "model = keras.Sequential()\n",
    "# Layer 1\n",
    "model.add(layers.Conv2D(96, (11, 11), strides=(4, 4), activation='relu', input_shape=(224, 224, 3)))\n",
    "model.add(layers.MaxPooling2D(pool_size=(3, 3), strides=(2, 2)))\n",
    "# Layer 2\n",
    "model.add(layers.Conv2D(256, (5, 5), activation='relu'))\n",
    "model.add(layers.MaxPooling2D(pool_size=(3, 3), strides=(2, 2)))\n",
    "# Layer 3\n",
    "model.add(layers.Conv2D(384, (3, 3), activation='relu'))\n",
    "# Layer 4\n",
    "model.add(layers.Conv2D(384, (3, 3), activation='relu'))\n",
    "# Layer 5\n",
    "model.add(layers.Conv2D(256, (3, 3), activation='relu'))\n",
    "model.add(layers.MaxPooling2D(pool_size=(3, 3), strides=(2, 2)))\n",
    "# Flatten the output of the previous layer\n",
    "model.add(layers.Flatten())\n",
    "# Fully connected layers\n",
    "model.add(layers.Dense(4096, activation='relu'))\n",
    "model.add(layers.Dense(4096, activation='relu'))\n",
    "model.add(layers.Dense(2, activation='softmax'))  # Assuming binary classification (flood vs non-flood)\n",
    "# Compile the model\n",
    "model.compile(optimizer='adam', loss='binary_crossentropy', metrics=['accuracy'])"
   ]
  },
  {
   "cell_type": "code",
   "execution_count": null,
   "id": "4316bf8c",
   "metadata": {},
   "outputs": [],
   "source": [
    "# Assuming you have a dataset of flood and non-flood images and their labels\n",
    "train_images = ...\n",
    "train_labels = ..."
   ]
  },
  {
   "cell_type": "code",
   "execution_count": null,
   "id": "c25db541",
   "metadata": {},
   "outputs": [],
   "source": [
    "# Train the model\n",
    "model.fit(train_images, train_labels, epochs=10, batch_size=32)"
   ]
  },
  {
   "cell_type": "code",
   "execution_count": null,
   "id": "3e5a6428",
   "metadata": {},
   "outputs": [],
   "source": [
    "# Once trained, you can use the model to predict flood or non-flood images\n",
    "test_images = ...\n",
    "predictions = model.predict(test_images)"
   ]
  }
 ],
 "metadata": {
  "kernelspec": {
   "display_name": "Python 3 (ipykernel)",
   "language": "python",
   "name": "python3"
  },
  "language_info": {
   "codemirror_mode": {
    "name": "ipython",
    "version": 3
   },
   "file_extension": ".py",
   "mimetype": "text/x-python",
   "name": "python",
   "nbconvert_exporter": "python",
   "pygments_lexer": "ipython3",
   "version": "3.10.9"
  }
 },
 "nbformat": 4,
 "nbformat_minor": 5
}
